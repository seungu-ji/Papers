{
  "nbformat": 4,
  "nbformat_minor": 0,
  "metadata": {
    "colab": {
      "name": "Very Deep Convolutional Networks for Large-Scale Image Recognition.ipynb",
      "provenance": [],
      "authorship_tag": "ABX9TyMacTq79E2vgJ+FN1R3kzQl",
      "include_colab_link": true
    },
    "kernelspec": {
      "name": "python3",
      "display_name": "Python 3"
    }
  },
  "cells": [
    {
      "cell_type": "markdown",
      "metadata": {
        "id": "view-in-github",
        "colab_type": "text"
      },
      "source": [
        "<a href=\"https://colab.research.google.com/github/viriditass/TIL/blob/main/Very_Deep_Convolutional_Networks_for_Large_Scale_Image_Recognition.ipynb\" target=\"_parent\"><img src=\"https://colab.research.google.com/assets/colab-badge.svg\" alt=\"Open In Colab\"/></a>"
      ]
    },
    {
      "cell_type": "markdown",
      "metadata": {
        "id": "njH2oWvd9ZGG"
      },
      "source": [
        "# **Very Deep Convolutional Networks for Large-Scale Image Recognition**"
      ]
    },
    {
      "cell_type": "markdown",
      "metadata": {
        "id": "S4KYURdn9Wgk"
      },
      "source": [
        "논문 링크: https://arxiv.org/abs/1409.1556"
      ]
    },
    {
      "cell_type": "code",
      "metadata": {
        "id": "gCQdzDUV9XcM"
      },
      "source": [
        ""
      ],
      "execution_count": null,
      "outputs": []
    }
  ]
}