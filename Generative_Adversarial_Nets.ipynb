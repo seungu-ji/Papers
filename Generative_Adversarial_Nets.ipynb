{
  "nbformat": 4,
  "nbformat_minor": 0,
  "metadata": {
    "colab": {
      "name": "Generative Adversarial Nets.ipynb",
      "provenance": [],
      "collapsed_sections": [],
      "authorship_tag": "ABX9TyOC5ETgEicXCEQ8QNoJoxhy",
      "include_colab_link": true
    },
    "kernelspec": {
      "name": "python3",
      "display_name": "Python 3"
    }
  },
  "cells": [
    {
      "cell_type": "markdown",
      "metadata": {
        "id": "view-in-github",
        "colab_type": "text"
      },
      "source": [
        "<a href=\"https://colab.research.google.com/github/viriditass/Papers/blob/main/Generative_Adversarial_Nets.ipynb\" target=\"_parent\"><img src=\"https://colab.research.google.com/assets/colab-badge.svg\" alt=\"Open In Colab\"/></a>"
      ]
    },
    {
      "cell_type": "markdown",
      "metadata": {
        "id": "F4nbqW3SSbvN"
      },
      "source": [
        "# **Generative Adversarial Nets**"
      ]
    },
    {
      "cell_type": "markdown",
      "metadata": {
        "id": "1h-gk7vWalwX"
      },
      "source": [
        "논문 링크: https://arxiv.org/abs/1406.2661"
      ]
    },
    {
      "cell_type": "code",
      "metadata": {
        "id": "oH-6hDZUanC-"
      },
      "source": [
        ""
      ],
      "execution_count": null,
      "outputs": []
    }
  ]
}