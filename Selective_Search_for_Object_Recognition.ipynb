{
  "nbformat": 4,
  "nbformat_minor": 0,
  "metadata": {
    "colab": {
      "name": "Selective Search for Object Recognition.ipynb",
      "provenance": [],
      "authorship_tag": "ABX9TyNjK1R3Rlt1lnGnlONMrJXU",
      "include_colab_link": true
    },
    "kernelspec": {
      "name": "python3",
      "display_name": "Python 3"
    }
  },
  "cells": [
    {
      "cell_type": "markdown",
      "metadata": {
        "id": "view-in-github",
        "colab_type": "text"
      },
      "source": [
        "<a href=\"https://colab.research.google.com/github/viriditass/Papers/blob/main/Selective_Search_for_Object_Recognition.ipynb\" target=\"_parent\"><img src=\"https://colab.research.google.com/assets/colab-badge.svg\" alt=\"Open In Colab\"/></a>"
      ]
    },
    {
      "cell_type": "markdown",
      "metadata": {
        "id": "-01_PWdFp_2U"
      },
      "source": [
        "# **Selective Search for Object Recognition**"
      ]
    },
    {
      "cell_type": "markdown",
      "metadata": {
        "id": "skTVj4PIp13R"
      },
      "source": [
        "논문 링크: http://huppelen.nl/publications/selectiveSearchDraft.pdf"
      ]
    },
    {
      "cell_type": "markdown",
      "metadata": {
        "id": "GgeCQhlpqGRO"
      },
      "source": [
        "https://www.learnopencv.com/selective-search-for-object-detection-cpp-python/#"
      ]
    },
    {
      "cell_type": "code",
      "metadata": {
        "id": "fi6bb6hOqExC"
      },
      "source": [
        ""
      ],
      "execution_count": null,
      "outputs": []
    }
  ]
}