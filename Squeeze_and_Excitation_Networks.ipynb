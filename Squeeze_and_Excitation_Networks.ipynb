{
  "nbformat": 4,
  "nbformat_minor": 0,
  "metadata": {
    "colab": {
      "name": "Squeeze-and-Excitation Networks.ipynb",
      "provenance": [],
      "authorship_tag": "ABX9TyNiPMds/XKAnuwB8oNnDYlI",
      "include_colab_link": true
    },
    "kernelspec": {
      "name": "python3",
      "display_name": "Python 3"
    }
  },
  "cells": [
    {
      "cell_type": "markdown",
      "metadata": {
        "id": "view-in-github",
        "colab_type": "text"
      },
      "source": [
        "<a href=\"https://colab.research.google.com/github/viriditass/Papers/blob/main/Squeeze_and_Excitation_Networks.ipynb\" target=\"_parent\"><img src=\"https://colab.research.google.com/assets/colab-badge.svg\" alt=\"Open In Colab\"/></a>"
      ]
    },
    {
      "cell_type": "markdown",
      "metadata": {
        "id": "ll_t2ylMQOsZ"
      },
      "source": [
        "# **Squeeze-and-Excitation Networks**"
      ]
    },
    {
      "cell_type": "markdown",
      "metadata": {
        "id": "3crRaSlRQjaG"
      },
      "source": [
        "논문 링크: https://arxiv.org/abs/1709.01507"
      ]
    }
  ]
}