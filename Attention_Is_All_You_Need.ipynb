{
  "nbformat": 4,
  "nbformat_minor": 0,
  "metadata": {
    "colab": {
      "name": "Attention Is All You Need.ipynb",
      "provenance": [],
      "authorship_tag": "ABX9TyPvFVnadUqiHsGn+vjlKFK9",
      "include_colab_link": true
    },
    "kernelspec": {
      "name": "python3",
      "display_name": "Python 3"
    }
  },
  "cells": [
    {
      "cell_type": "markdown",
      "metadata": {
        "id": "view-in-github",
        "colab_type": "text"
      },
      "source": [
        "<a href=\"https://colab.research.google.com/github/viriditass/TIL/blob/main/Attention_Is_All_You_Need.ipynb\" target=\"_parent\"><img src=\"https://colab.research.google.com/assets/colab-badge.svg\" alt=\"Open In Colab\"/></a>"
      ]
    },
    {
      "cell_type": "markdown",
      "metadata": {
        "id": "uipPAP4lhyTd"
      },
      "source": [
        "Transformer는 자연어처리에서 가장 중요한 논문이라고 생각이 됩니다. 이유는 2019년 12월 현재 각종 Benchmark 에서 가장 좋은 성능을 내고 있는 모델들이 Transformer 기반의 Pretrained 모델이기 때문 입니다."
      ]
    },
    {
      "cell_type": "code",
      "metadata": {
        "id": "N4dNSHHl0Q5e",
        "outputId": "b8ca7526-032e-4b4b-8974-749ff0bf7adb",
        "colab": {
          "base_uri": "https://localhost:8080/",
          "height": 34
        }
      },
      "source": [
        "from google.colab import drive\n",
        "drive.mount('/content/drive')\n",
        "data_dir = \"/content/drive/My Drive/Kowiki\""
      ],
      "execution_count": 1,
      "outputs": [
        {
          "output_type": "stream",
          "text": [
            "Mounted at /content/drive\n"
          ],
          "name": "stdout"
        }
      ]
    },
    {
      "cell_type": "code",
      "metadata": {
        "id": "Gj92WQ8P2vrf",
        "outputId": "f3452b99-25b4-4c29-ce85-57d71de4d8fc",
        "colab": {
          "base_uri": "https://localhost:8080/",
          "height": 125
        }
      },
      "source": [
        "!pip install sentencepiece"
      ],
      "execution_count": 2,
      "outputs": [
        {
          "output_type": "stream",
          "text": [
            "Collecting sentencepiece\n",
            "\u001b[?25l  Downloading https://files.pythonhosted.org/packages/e5/2d/6d4ca4bef9a67070fa1cac508606328329152b1df10bdf31fb6e4e727894/sentencepiece-0.1.94-cp36-cp36m-manylinux2014_x86_64.whl (1.1MB)\n",
            "\u001b[K     |████████████████████████████████| 1.1MB 2.7MB/s \n",
            "\u001b[?25hInstalling collected packages: sentencepiece\n",
            "Successfully installed sentencepiece-0.1.94\n"
          ],
          "name": "stdout"
        }
      ]
    },
    {
      "cell_type": "code",
      "metadata": {
        "id": "tu9gfqMI2d0b"
      },
      "source": [
        "import os\n",
        "import numpy as np\n",
        "import math\n",
        "import matplotlib.pyplot as plt\n",
        "import sentencepiece as spm\n",
        "\n",
        "import torch\n",
        "import torch.nn as nn\n",
        "import torch.nn.functional as F"
      ],
      "execution_count": 3,
      "outputs": []
    },
    {
      "cell_type": "code",
      "metadata": {
        "id": "GEm_P_Hs2oRV",
        "outputId": "943d5d43-59a6-4a1d-d21a-1eba677a4ed2",
        "colab": {
          "base_uri": "https://localhost:8080/",
          "height": 140
        }
      },
      "source": [
        "for i in os.listdir(data_dir):\n",
        "  print(i)"
      ],
      "execution_count": 4,
      "outputs": [
        {
          "output_type": "stream",
          "text": [
            "kowiki.model\n",
            "kowiki.vocab\n",
            "kowiki.csv.gz\n",
            "ratings_test.json\n",
            "ratings_test.txt\n",
            "ratings_train.json\n",
            "ratings_train.txt\n"
          ],
          "name": "stdout"
        }
      ]
    },
    {
      "cell_type": "markdown",
      "metadata": {
        "id": "e4jVmYQSm-uD"
      },
      "source": [
        "## 1. Vocab\n",
        "이미 만들어 놓은 vocab을 이용해 텍스트를 입력 tensor로 변경합니다."
      ]
    },
    {
      "cell_type": "code",
      "metadata": {
        "id": "27_DPzNH28ne",
        "outputId": "eb7b9e10-5f30-4f56-f9e6-c22b14993b9c",
        "colab": {
          "base_uri": "https://localhost:8080/",
          "height": 105
        }
      },
      "source": [
        "# vocab loading\n",
        "vocab_file = f\"{data_dir}/kowiki.model\"\n",
        "vocab = spm.SentencePieceProcessor()\n",
        "vocab.load(vocab_file)\n",
        "\n",
        "# 입력 texts\n",
        "lines = [\n",
        "  \"겨울은 추워요.\",\n",
        "  \"감기 조심하세요.\"\n",
        "]\n",
        "\n",
        "# text를 tensor로 변환\n",
        "inputs = []\n",
        "for line in lines:\n",
        "  pieces = vocab.encode_as_pieces(line)\n",
        "  ids = vocab.encode_as_ids(line)\n",
        "  inputs.append(torch.tensor(ids))\n",
        "  print(pieces)\n",
        "\n",
        "# 입력 길이가 다르므로 입력 최대 길이에 맟춰 padding(0)을 추가 해 줌\n",
        "inputs = torch.nn.utils.rnn.pad_sequence(inputs, batch_first=True, padding_value=0)\n",
        "# shape\n",
        "print(inputs.size())\n",
        "# 값\n",
        "print(inputs)"
      ],
      "execution_count": 5,
      "outputs": [
        {
          "output_type": "stream",
          "text": [
            "['▁겨울', '은', '▁추', '워', '요', '.']\n",
            "['▁감', '기', '▁조', '심', '하', '세', '요', '.']\n",
            "torch.Size([2, 8])\n",
            "tensor([[3091, 3604,  206, 3958, 3760, 3590,    0,    0],\n",
            "        [ 212, 3605,   53, 3832, 3596, 3682, 3760, 3590]])\n"
          ],
          "name": "stdout"
        }
      ]
    },
    {
      "cell_type": "markdown",
      "metadata": {
        "id": "s2MRG5h8nIsd"
      },
      "source": [
        "## 2. Embedding\n",
        "Transformer의 Embedding은 'Input Embedding'과 'Postion Embedding' 두 가지를 합해서 사용 합니다.\n",
        "\n",
        "- Input Embedding\n",
        "\n",
        "embedding은 입력 토큰을 vector 형태로 변환합니다."
      ]
    },
    {
      "cell_type": "markdown",
      "metadata": {
        "id": "fEfli6mVnqnC"
      },
      "source": [
        "1. inputs에 대한 embedding 값 input_embs를 구합니다."
      ]
    },
    {
      "cell_type": "code",
      "metadata": {
        "id": "ynkPSNKw4GeQ",
        "outputId": "531b420d-fdd4-4ba8-ad98-9c04b12e8e31",
        "colab": {
          "base_uri": "https://localhost:8080/",
          "height": 34
        }
      },
      "source": [
        "n_vocab = len(vocab) # vocab count\n",
        "d_hidn = 128 # hidden size\n",
        "nn_emb = nn.Embedding(n_vocab, d_hidn) # embedding 객체\n",
        "\n",
        "input_embs = nn_emb(inputs) # input embedding\n",
        "print(input_embs.size())"
      ],
      "execution_count": 7,
      "outputs": [
        {
          "output_type": "stream",
          "text": [
            "torch.Size([2, 8, 128])\n"
          ],
          "name": "stdout"
        }
      ]
    },
    {
      "cell_type": "markdown",
      "metadata": {
        "id": "K5slRHdspOFG"
      },
      "source": [
        "위와 같이 inputs(2,8)에 대한 embedding값 input_embs(2,8,128) shape를 갖습니다."
      ]
    },
    {
      "cell_type": "markdown",
      "metadata": {
        "id": "pnGcDXZHpW00"
      },
      "source": [
        "- Position Embedding\n",
        "\n",
        "Position encoding값을 구하기 위한 함수는 아래와 같습니다.\n",
        "1. 각 position별도 angle 값을 구합니다.\n",
        "2. 주어진 angle 중 짝수 index의 값에 대한 sin값을 구합니다.\n",
        "3. 구해진 angle 중 홀수 index의 값에 대한 cos값을 구합니다."
      ]
    },
    {
      "cell_type": "code",
      "metadata": {
        "id": "C64TDkwwpHZ-"
      },
      "source": [
        "\"\"\" sinusoid position embedding \"\"\"\n",
        "def get_sinusoid_encoding_table(n_seq, d_hidn):\n",
        "    def cal_angle(position, i_hidn):\n",
        "        return position / np.power(10000, 2 * (i_hidn // 2) / d_hidn)\n",
        "    def get_posi_angle_vec(position):\n",
        "        return [cal_angle(position, i_hidn) for i_hidn in range(d_hidn)]\n",
        "\n",
        "    sinusoid_table = np.array([get_posi_angle_vec(i_seq) for i_seq in range(n_seq)])\n",
        "    sinusoid_table[:, 0::2] = np.sin(sinusoid_table[:, 0::2])  # even index sin \n",
        "    sinusoid_table[:, 1::2] = np.cos(sinusoid_table[:, 1::2])  # odd index cos\n",
        "\n",
        "    return sinusoid_table"
      ],
      "execution_count": 15,
      "outputs": []
    },
    {
      "cell_type": "markdown",
      "metadata": {
        "id": "HCw9RI-drANE"
      },
      "source": [
        "아래와 같이 position encoding값을 구하면 됩니다."
      ]
    },
    {
      "cell_type": "code",
      "metadata": {
        "id": "YmSXE4kZq-8x",
        "outputId": "fcffd882-ef22-4af5-ba0f-937b7e427c59",
        "colab": {
          "base_uri": "https://localhost:8080/",
          "height": 301
        }
      },
      "source": [
        "n_seq = 64\n",
        "pos_encoding = get_sinusoid_encoding_table(n_seq, d_hidn)\n",
        "\n",
        "print (pos_encoding.shape) # 크기 출력\n",
        "plt.pcolormesh(pos_encoding, cmap='RdBu')\n",
        "plt.xlabel('Depth')\n",
        "plt.xlim((0, d_hidn))\n",
        "plt.ylabel('Position')\n",
        "plt.colorbar()\n",
        "plt.show()"
      ],
      "execution_count": 16,
      "outputs": [
        {
          "output_type": "stream",
          "text": [
            "(64, 128)\n"
          ],
          "name": "stdout"
        },
        {
          "output_type": "display_data",
          "data": {
            "image/png": "[encoded data removed]",
            "text/plain": [
              "<Figure size 432x288 with 2 Axes>"
            ]
          },
          "metadata": {
            "tags": [],
            "needs_background": "light"
          }
        }
      ]
    },
    {
      "cell_type": "markdown",
      "metadata": {
        "id": "Wvd8b-4dsuaK"
      },
      "source": [
        "위에서 구한 결괴를 그래프로 출력하면 아래와 같이 각 position 별로 다른 값을 갖는 것을 확인 할 수 있습니다."
      ]
    },
    {
      "cell_type": "code",
      "metadata": {
        "id": "rohtSt7WsXdo"
      },
      "source": [
        ""
      ],
      "execution_count": null,
      "outputs": []
    },
    {
      "cell_type": "markdown",
      "metadata": {
        "id": "Kq6bpjnasuC8"
      },
      "source": [
        ""
      ]
    }
  ]
}