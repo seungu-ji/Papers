{
  "nbformat": 4,
  "nbformat_minor": 0,
  "metadata": {
    "colab": {
      "name": "Improved Regularization of Convolutional Neural Networks with Cutout.ipynb",
      "provenance": [],
      "authorship_tag": "ABX9TyPWLVGugVj9ahXnU23pja2+",
      "include_colab_link": true
    },
    "kernelspec": {
      "name": "python3",
      "display_name": "Python 3"
    }
  },
  "cells": [
    {
      "cell_type": "markdown",
      "metadata": {
        "id": "view-in-github",
        "colab_type": "text"
      },
      "source": [
        "<a href=\"https://colab.research.google.com/github/viriditass/Papers/blob/main/Improved_Regularization_of_Convolutional_Neural_Networks_with_Cutout.ipynb\" target=\"_parent\"><img src=\"https://colab.research.google.com/assets/colab-badge.svg\" alt=\"Open In Colab\"/></a>"
      ]
    },
    {
      "cell_type": "markdown",
      "metadata": {
        "id": "bdEHNah38p8Y"
      },
      "source": [
        "# **Improved Regularization of Convolutional Neural Networks with Cutout**"
      ]
    },
    {
      "cell_type": "markdown",
      "metadata": {
        "id": "rbmJNTxo8r28"
      },
      "source": [
        "논문 링크: https://arxiv.org/abs/1708.04552"
      ]
    },
    {
      "cell_type": "markdown",
      "metadata": {
        "id": "xnJbFUfS8r7O"
      },
      "source": [
        ""
      ]
    },
    {
      "cell_type": "markdown",
      "metadata": {
        "id": "8bg8Mq6D8r_a"
      },
      "source": [
        ""
      ]
    },
    {
      "cell_type": "markdown",
      "metadata": {
        "id": "Bma9nR-_8sDg"
      },
      "source": [
        ""
      ]
    },
    {
      "cell_type": "markdown",
      "metadata": {
        "id": "FRXXbJ368sJb"
      },
      "source": [
        ""
      ]
    }
  ]
}