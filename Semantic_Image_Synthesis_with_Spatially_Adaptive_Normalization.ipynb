{
  "nbformat": 4,
  "nbformat_minor": 0,
  "metadata": {
    "colab": {
      "name": "Semantic Image Synthesis with Spatially-Adaptive Normalization.ipynb",
      "provenance": [],
      "authorship_tag": "ABX9TyO0RxrqdGGpK0bjGXf6sXWq",
      "include_colab_link": true
    },
    "kernelspec": {
      "name": "python3",
      "display_name": "Python 3"
    }
  },
  "cells": [
    {
      "cell_type": "markdown",
      "metadata": {
        "id": "view-in-github",
        "colab_type": "text"
      },
      "source": [
        "<a href=\"https://colab.research.google.com/github/viriditass/Papers/blob/main/Semantic_Image_Synthesis_with_Spatially_Adaptive_Normalization.ipynb\" target=\"_parent\"><img src=\"https://colab.research.google.com/assets/colab-badge.svg\" alt=\"Open In Colab\"/></a>"
      ]
    },
    {
      "cell_type": "markdown",
      "metadata": {
        "id": "JsF_wO3VVcza"
      },
      "source": [
        "# **Semantic Image Synthesis with Spatially-Adaptive Normalization**"
      ]
    },
    {
      "cell_type": "markdown",
      "metadata": {
        "id": "nQRCKF8XVc1M"
      },
      "source": [
        "논문 링크: https://arxiv.org/abs/1903.07291"
      ]
    },
    {
      "cell_type": "markdown",
      "metadata": {
        "id": "OSNHQshCVc2h"
      },
      "source": [
        ""
      ]
    },
    {
      "cell_type": "markdown",
      "metadata": {
        "id": "wc9OeEwwVc36"
      },
      "source": [
        ""
      ]
    },
    {
      "cell_type": "markdown",
      "metadata": {
        "id": "6k__hsUAVc5Z"
      },
      "source": [
        ""
      ]
    },
    {
      "cell_type": "markdown",
      "metadata": {
        "id": "29jl5QKUVc68"
      },
      "source": [
        ""
      ]
    },
    {
      "cell_type": "markdown",
      "metadata": {
        "id": "FsBxf4orVc8Y"
      },
      "source": [
        ""
      ]
    }
  ]
}