{
  "nbformat": 4,
  "nbformat_minor": 0,
  "metadata": {
    "colab": {
      "name": "First Order Motion Model for Image Animation.ipynb",
      "provenance": [],
      "authorship_tag": "ABX9TyNKPcIBuJ3IvTCsCWuwyENq",
      "include_colab_link": true
    },
    "kernelspec": {
      "name": "python3",
      "display_name": "Python 3"
    },
    "language_info": {
      "name": "python"
    }
  },
  "cells": [
    {
      "cell_type": "markdown",
      "metadata": {
        "id": "view-in-github",
        "colab_type": "text"
      },
      "source": [
        "<a href=\"https://colab.research.google.com/github/viriditass/Papers/blob/main/First_Order_Motion_Model_for_Image_Animation.ipynb\" target=\"_parent\"><img src=\"https://colab.research.google.com/assets/colab-badge.svg\" alt=\"Open In Colab\"/></a>"
      ]
    },
    {
      "cell_type": "markdown",
      "metadata": {
        "id": "EyROX1w7NvIT"
      },
      "source": [
        "# **First Order Motion Model for Image Animation**"
      ]
    },
    {
      "cell_type": "markdown",
      "metadata": {
        "id": "aOrjPYPwNvL2"
      },
      "source": [
        "논문 링크: https://arxiv.org/abs/2003.00196"
      ]
    },
    {
      "cell_type": "markdown",
      "metadata": {
        "id": "pd65fiAkNvN8"
      },
      "source": [
        ""
      ]
    },
    {
      "cell_type": "markdown",
      "metadata": {
        "id": "Ou92AH3qNvP_"
      },
      "source": [
        ""
      ]
    },
    {
      "cell_type": "markdown",
      "metadata": {
        "id": "w8hYUvGxNvR5"
      },
      "source": [
        ""
      ]
    }
  ]
}