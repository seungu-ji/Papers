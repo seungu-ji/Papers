{
  "nbformat": 4,
  "nbformat_minor": 0,
  "metadata": {
    "colab": {
      "name": "Siamese Neural Networks for One-shot Image Recognition.ipynb",
      "provenance": [],
      "authorship_tag": "ABX9TyMvTn9CSDApsYF/mWaVwXLW",
      "include_colab_link": true
    },
    "kernelspec": {
      "name": "python3",
      "display_name": "Python 3"
    }
  },
  "cells": [
    {
      "cell_type": "markdown",
      "metadata": {
        "id": "view-in-github",
        "colab_type": "text"
      },
      "source": [
        "<a href=\"https://colab.research.google.com/github/viriditass/Papers/blob/main/Siamese_Neural_Networks_for_One_shot_Image_Recognition.ipynb\" target=\"_parent\"><img src=\"https://colab.research.google.com/assets/colab-badge.svg\" alt=\"Open In Colab\"/></a>"
      ]
    },
    {
      "cell_type": "markdown",
      "metadata": {
        "id": "Im5FblkJVk8w"
      },
      "source": [
        "# **Siamese Neural Networks for One-shot Image Recognition**"
      ]
    },
    {
      "cell_type": "markdown",
      "metadata": {
        "id": "8sXpBWdqVk5e"
      },
      "source": [
        "논문 링크: https://www.cs.cmu.edu/~rsalakhu/papers/oneshot1.pdf"
      ]
    },
    {
      "cell_type": "markdown",
      "metadata": {
        "id": "qqKFVU11Vk_E"
      },
      "source": [
        "machine learning은 매우 다양한 분야에서 좋은 성능을 보이고 있다. 하지만, 좋은 성능을 보여주는 supervised learning의 경우 feature를 학습하기 위해선 그만큼 많은 data가 필요하기 때문에 많은 data를 확보하지 못하게 되면 모델의 구조가 아무리 좋아도 제대로 된 성능을 발휘하기 힘들다."
      ]
    },
    {
      "cell_type": "markdown",
      "metadata": {
        "id": "NEHobS3XVlA_"
      },
      "source": [
        "따라서, 본 논문에서는 data가 부족한 상황에서 추가적인 학습(retraining)없이 새로운 class에 대해서도 좋은 성능을 낼 수 있는 one-shot learning을 사용하는 Siamese Neural Networks을 연구하였다."
      ]
    },
    {
      "cell_type": "markdown",
      "metadata": {
        "id": "lWrO1UyCVlFB"
      },
      "source": [
        "## **Few-shot Learning**"
      ]
    },
    {
      "cell_type": "markdown",
      "metadata": {
        "id": "ELnHY7u2VlHg"
      },
      "source": [
        ""
      ]
    },
    {
      "cell_type": "markdown",
      "metadata": {
        "id": "f6sJ1dTBVlVk"
      },
      "source": [
        ""
      ]
    },
    {
      "cell_type": "markdown",
      "metadata": {
        "id": "YsrHTUnuVlX8"
      },
      "source": [
        ""
      ]
    },
    {
      "cell_type": "markdown",
      "metadata": {
        "id": "CapazTa1VlaS"
      },
      "source": [
        ""
      ]
    },
    {
      "cell_type": "markdown",
      "metadata": {
        "id": "WRVM8VWrVlcl"
      },
      "source": [
        ""
      ]
    }
  ]
}