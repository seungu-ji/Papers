{
  "nbformat": 4,
  "nbformat_minor": 0,
  "metadata": {
    "colab": {
      "name": "Deep Residual Learning for Image Recognition.ipynb",
      "provenance": [],
      "authorship_tag": "ABX9TyP+1wykiOsyC/lbrO5RKbMl",
      "include_colab_link": true
    },
    "kernelspec": {
      "name": "python3",
      "display_name": "Python 3"
    }
  },
  "cells": [
    {
      "cell_type": "markdown",
      "metadata": {
        "id": "view-in-github",
        "colab_type": "text"
      },
      "source": [
        "<a href=\"https://colab.research.google.com/github/viriditass/Papers/blob/main/Deep_Residual_Learning_for_Image_Recognition.ipynb\" target=\"_parent\"><img src=\"https://colab.research.google.com/assets/colab-badge.svg\" alt=\"Open In Colab\"/></a>"
      ]
    },
    {
      "cell_type": "markdown",
      "metadata": {
        "id": "wx72badn-2kv"
      },
      "source": [
        "# **Deep Residual Learning for Image Recognition**"
      ]
    },
    {
      "cell_type": "markdown",
      "metadata": {
        "id": "d4CnxSpH-0Ry"
      },
      "source": [
        "논문 링크: https://arxiv.org/abs/1512.03385"
      ]
    }
  ]
}