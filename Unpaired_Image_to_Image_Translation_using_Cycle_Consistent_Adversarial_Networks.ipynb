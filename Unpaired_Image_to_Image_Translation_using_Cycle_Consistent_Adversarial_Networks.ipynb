{
  "nbformat": 4,
  "nbformat_minor": 0,
  "metadata": {
    "colab": {
      "name": "Unpaired Image-to-Image Translation using Cycle-Consistent Adversarial Networks.ipynb",
      "provenance": [],
      "authorship_tag": "ABX9TyPZTiga7JIVN1PLUnyBLYIb",
      "include_colab_link": true
    },
    "kernelspec": {
      "name": "python3",
      "display_name": "Python 3"
    }
  },
  "cells": [
    {
      "cell_type": "markdown",
      "metadata": {
        "id": "view-in-github",
        "colab_type": "text"
      },
      "source": [
        "<a href=\"https://colab.research.google.com/github/viriditass/TIL/blob/main/Unpaired_Image_to_Image_Translation_using_Cycle_Consistent_Adversarial_Networks.ipynb\" target=\"_parent\"><img src=\"https://colab.research.google.com/assets/colab-badge.svg\" alt=\"Open In Colab\"/></a>"
      ]
    },
    {
      "cell_type": "markdown",
      "metadata": {
        "id": "YV-ynTjKEn5d"
      },
      "source": [
        "# **Unpaired Image-to-Image Translation using Cycle-Consistent Adversarial Networks**"
      ]
    },
    {
      "cell_type": "markdown",
      "metadata": {
        "id": "UOBxnOYsEp5i"
      },
      "source": [
        "논문 링크: https://arxiv.org/abs/1703.10593"
      ]
    },
    {
      "cell_type": "code",
      "metadata": {
        "id": "82IqG3LoEpFE"
      },
      "source": [
        ""
      ],
      "execution_count": null,
      "outputs": []
    }
  ]
}