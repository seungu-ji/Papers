{
  "nbformat": 4,
  "nbformat_minor": 0,
  "metadata": {
    "colab": {
      "name": "A Closed Form Solution to Natural Image Matting.ipynb",
      "provenance": [],
      "authorship_tag": "ABX9TyNWA7LPVv9YhZjuVZLjTF02",
      "include_colab_link": true
    },
    "kernelspec": {
      "name": "python3",
      "display_name": "Python 3"
    }
  },
  "cells": [
    {
      "cell_type": "markdown",
      "metadata": {
        "id": "view-in-github",
        "colab_type": "text"
      },
      "source": [
        "<a href=\"https://colab.research.google.com/github/viriditass/Papers/blob/main/A_Closed_Form_Solution_to_Natural_Image_Matting.ipynb\" target=\"_parent\"><img src=\"https://colab.research.google.com/assets/colab-badge.svg\" alt=\"Open In Colab\"/></a>"
      ]
    },
    {
      "cell_type": "markdown",
      "metadata": {
        "id": "R1arniP0t-FK"
      },
      "source": [
        "# **A Closed Form Solution to Natural Image Matting**"
      ]
    },
    {
      "cell_type": "markdown",
      "metadata": {
        "id": "36R2CMSGt-IK"
      },
      "source": [
        "논문 링크: http://people.csail.mit.edu/alevin/papers/Matting-Levin-Lischinski-Weiss-CVPR06.pdf"
      ]
    },
    {
      "cell_type": "markdown",
      "metadata": {
        "id": "P1OI0EEUt-KR"
      },
      "source": [
        "참고 영상 링크: https://www.youtube.com/watch?v=Mvd93DdgqAY"
      ]
    },
    {
      "cell_type": "markdown",
      "metadata": {
        "id": "xYYXzTNTt-MV"
      },
      "source": [
        ""
      ]
    },
    {
      "cell_type": "markdown",
      "metadata": {
        "id": "H8tpHLAJt-OU"
      },
      "source": [
        ""
      ]
    },
    {
      "cell_type": "markdown",
      "metadata": {
        "id": "OoxGvA39t-QW"
      },
      "source": [
        ""
      ]
    },
    {
      "cell_type": "markdown",
      "metadata": {
        "id": "TKlDyMOGt-S3"
      },
      "source": [
        ""
      ]
    },
    {
      "cell_type": "markdown",
      "metadata": {
        "id": "JWHMcN0Qt-VK"
      },
      "source": [
        ""
      ]
    },
    {
      "cell_type": "markdown",
      "metadata": {
        "id": "DWio2QKnt-XT"
      },
      "source": [
        ""
      ]
    }
  ]
}