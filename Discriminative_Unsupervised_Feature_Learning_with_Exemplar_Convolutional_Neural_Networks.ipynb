{
  "nbformat": 4,
  "nbformat_minor": 0,
  "metadata": {
    "colab": {
      "name": "Discriminative Unsupervised Feature Learning with Exemplar Convolutional Neural Networks.ipynb",
      "provenance": [],
      "authorship_tag": "ABX9TyN4KnZ9JVJOgmwePUrcQz+B",
      "include_colab_link": true
    },
    "kernelspec": {
      "name": "python3",
      "display_name": "Python 3"
    }
  },
  "cells": [
    {
      "cell_type": "markdown",
      "metadata": {
        "id": "view-in-github",
        "colab_type": "text"
      },
      "source": [
        "<a href=\"https://colab.research.google.com/github/viriditass/Papers/blob/main/Discriminative_Unsupervised_Feature_Learning_with_Exemplar_Convolutional_Neural_Networks.ipynb\" target=\"_parent\"><img src=\"https://colab.research.google.com/assets/colab-badge.svg\" alt=\"Open In Colab\"/></a>"
      ]
    },
    {
      "cell_type": "markdown",
      "metadata": {
        "id": "RmHh_TtUVx4u"
      },
      "source": [
        "# **Discriminative Unsupervised Feature Learning with Exemplar Convolutional Neural Networks**"
      ]
    },
    {
      "cell_type": "markdown",
      "metadata": {
        "id": "YBnhhoXLZXef"
      },
      "source": [
        "논문 링크: https://arxiv.org/abs/1406.6909"
      ]
    },
    {
      "cell_type": "markdown",
      "metadata": {
        "id": "oEct0zl-V_ye"
      },
      "source": [
        "supervise CNN은 image classification, detection, semantic segmentation과 같은 다양한 Computer Vision 분야에서 전례 없는 성능을 보여줬다. 흥미로운 사실은, ImageNet 데이터셋을 통해 학습한  분류네트워크가 **PASCAL VOC** 데이터셋에서도 잘 분류를 하는 등 종종 새로운 데이터셋에 대해 일반화하기도 한다. 하지만, 이러한 network들은 적어도 2가지의 단짐이 있는데,"
      ]
    },
    {
      "cell_type": "markdown",
      "metadata": {
        "id": "2Lkru7dxUe1m"
      },
      "source": [
        "1. label이 부착된 대규모 데이터셋이 필요하다. 이런 데이터셋의 경우 수집하기도 어렵다. 따라서 임의의 양의 데이터로 학습할 수 있는 비지도 학습이 비록 제한된 성능이지만 주목을 받는다.\r\n",
        "2. 분류를 위해 학습된 CNN은 object detection, semantic segmentation, image retrieval과 같은 유사한 작업은 잘 일반화되지만, 새 작업이 원래 훈련 작업과 다를수록 효율성이 떨어진다."
      ]
    },
    {
      "cell_type": "markdown",
      "metadata": {
        "id": "HlvwGYsSUWAJ"
      },
      "source": [
        "대부분은 train을 위해 충분히 많은 input-output 쌍이 필요하다. 이런 대규모 데이터셋을 얻는 것은 새로운 연구에 접근할 때 중요한 준비물 중 한개이다. 본 논문에서는 일반적인 특징 검출을 목표로 unlabeled data만을 사용하여 CNN을 학습하기 위한 새로운 접근 방식을 제안했다."
      ]
    },
    {
      "cell_type": "markdown",
      "metadata": {
        "id": "B32VkHr8lW4o"
      },
      "source": [
        "## **Exemplar-CNN**"
      ]
    },
    {
      "cell_type": "markdown",
      "metadata": {
        "id": "EffDeDdajZm6"
      },
      "source": [
        "본 논문에서는 unlabeled image에서 자동으로 생성된 surrogate task을 사용하는 CNN 훈련 절차를 제안한다. 생성된 surrogate task는 전형적인 변화(typical variations)에 대해 descriptive하고 yield generic한 특징들 산출하도록 설계된다.\r\n",
        "\r\n",
        "변화는 'seed' image에 변환을 임의로 적용하여 시물레이션된다. 이 이미지와 변환 버전은 surrogate class를 구성한다. previous data augmentation과는 대조적으로, surrogate class를 구축하기 위해 단 하나의 seeding sample만이 필요하다. 이렇게 훈련된 네트워크를 **Exemplar-CNN**이라 부른다."
      ]
    },
    {
      "cell_type": "markdown",
      "metadata": {
        "id": "aju1cj-x20Jl"
      },
      "source": [
        "Examplar-CNN에 의해 학습된 표현은 차별적이면서도 "
      ]
    },
    {
      "cell_type": "markdown",
      "metadata": {
        "id": "QjhYP6x_jZtE"
      },
      "source": [
        ""
      ]
    },
    {
      "cell_type": "markdown",
      "metadata": {
        "id": "kwu6iHSgjZw0"
      },
      "source": [
        ""
      ]
    },
    {
      "cell_type": "markdown",
      "metadata": {
        "id": "vSSiL7LajZ2w"
      },
      "source": [
        ""
      ]
    }
  ]
}