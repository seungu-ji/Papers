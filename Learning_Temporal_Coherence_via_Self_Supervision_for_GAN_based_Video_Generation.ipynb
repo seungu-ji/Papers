{
  "nbformat": 4,
  "nbformat_minor": 0,
  "metadata": {
    "colab": {
      "name": "Learning Temporal Coherence via Self-Supervision for GAN-based Video Generation.ipynb",
      "provenance": [],
      "authorship_tag": "ABX9TyOTmVrNPN70TUIvqdXEWUfg",
      "include_colab_link": true
    },
    "kernelspec": {
      "name": "python3",
      "display_name": "Python 3"
    }
  },
  "cells": [
    {
      "cell_type": "markdown",
      "metadata": {
        "id": "view-in-github",
        "colab_type": "text"
      },
      "source": [
        "<a href=\"https://colab.research.google.com/github/viriditass/Papers/blob/main/Learning_Temporal_Coherence_via_Self_Supervision_for_GAN_based_Video_Generation.ipynb\" target=\"_parent\"><img src=\"https://colab.research.google.com/assets/colab-badge.svg\" alt=\"Open In Colab\"/></a>"
      ]
    },
    {
      "cell_type": "markdown",
      "metadata": {
        "id": "0EEEcUdQKYql"
      },
      "source": [
        "# **Learning Temporal Coherence via Self-Supervision for GAN-based Video Generation**"
      ]
    },
    {
      "cell_type": "markdown",
      "metadata": {
        "id": "A_tPxuqjKYsi"
      },
      "source": [
        "눈문 링크: https://arxiv.org/abs/1811.09393"
      ]
    },
    {
      "cell_type": "markdown",
      "metadata": {
        "id": "WnYNHghiKYui"
      },
      "source": [
        ""
      ]
    },
    {
      "cell_type": "markdown",
      "metadata": {
        "id": "sLZemGyYKYw2"
      },
      "source": [
        ""
      ]
    },
    {
      "cell_type": "markdown",
      "metadata": {
        "id": "zJg0drxkKYyM"
      },
      "source": [
        ""
      ]
    },
    {
      "cell_type": "markdown",
      "metadata": {
        "id": "OYG0zN7aKY0P"
      },
      "source": [
        ""
      ]
    },
    {
      "cell_type": "markdown",
      "metadata": {
        "id": "FkHElT_nKY15"
      },
      "source": [
        ""
      ]
    },
    {
      "cell_type": "markdown",
      "metadata": {
        "id": "3Q9tNksBKY5t"
      },
      "source": [
        ""
      ]
    },
    {
      "cell_type": "markdown",
      "metadata": {
        "id": "h8QsBx8cKY8C"
      },
      "source": [
        ""
      ]
    },
    {
      "cell_type": "markdown",
      "metadata": {
        "id": "UAD4T7gDKY9o"
      },
      "source": [
        ""
      ]
    },
    {
      "cell_type": "markdown",
      "metadata": {
        "id": "Zsz69v77KZAE"
      },
      "source": [
        ""
      ]
    },
    {
      "cell_type": "markdown",
      "metadata": {
        "id": "bJw3Q7_7KZCG"
      },
      "source": [
        ""
      ]
    },
    {
      "cell_type": "markdown",
      "metadata": {
        "id": "jvuKJhNrKZDw"
      },
      "source": [
        ""
      ]
    }
  ]
}