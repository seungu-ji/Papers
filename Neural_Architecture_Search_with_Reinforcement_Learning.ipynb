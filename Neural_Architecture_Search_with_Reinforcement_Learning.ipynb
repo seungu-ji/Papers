{
  "nbformat": 4,
  "nbformat_minor": 0,
  "metadata": {
    "colab": {
      "name": "Neural Architecture Search with Reinforcement Learning.ipynb",
      "provenance": [],
      "authorship_tag": "ABX9TyOKOjMBEHGprY11C75aiaAZ",
      "include_colab_link": true
    },
    "kernelspec": {
      "name": "python3",
      "display_name": "Python 3"
    }
  },
  "cells": [
    {
      "cell_type": "markdown",
      "metadata": {
        "id": "view-in-github",
        "colab_type": "text"
      },
      "source": [
        "<a href=\"https://colab.research.google.com/github/viriditass/Papers/blob/main/Neural_Architecture_Search_with_Reinforcement_Learning.ipynb\" target=\"_parent\"><img src=\"https://colab.research.google.com/assets/colab-badge.svg\" alt=\"Open In Colab\"/></a>"
      ]
    },
    {
      "cell_type": "markdown",
      "metadata": {
        "id": "_zsRX0TDoP4b"
      },
      "source": [
        "# **Neural Architecture Search with Reinforcement Learning**"
      ]
    },
    {
      "cell_type": "markdown",
      "metadata": {
        "id": "CxsRI2W9oMGa"
      },
      "source": [
        "논문 링크: https://arxiv.org/abs/1611.01578"
      ]
    }
  ]
}